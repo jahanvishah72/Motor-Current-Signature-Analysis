{
 "cells": [
  {
   "cell_type": "code",
   "execution_count": 1,
   "id": "2ce8db61",
   "metadata": {},
   "outputs": [],
   "source": [
    "import numpy as np\n",
    "\n",
    "# Load the dataset\n",
    "data = np.genfromtxt('motor_data.txt', delimiter=',', dtype=[('timestamp', 'i8'), ('current', 'f8'), ('voltage', 'f8'), ('power', 'f8'), ('frequency', 'f8'), ('speed', 'f8'), ('temperature', 'f8'), ('anomaly', 'i8')])\n",
    "\n",
    "\n"
   ]
  },
  {
   "cell_type": "code",
   "execution_count": 2,
   "id": "3fb97377",
   "metadata": {},
   "outputs": [],
   "source": [
    "# Define a threshold for detecting anomalies\n",
    "threshold = 0.01"
   ]
  },
  {
   "cell_type": "code",
   "execution_count": 3,
   "id": "d5c1fcc0",
   "metadata": {},
   "outputs": [],
   "source": [
    "# Calculate the baseline signature (mean of current measurements)\n",
    "baseline = np.mean(data['current'])\n"
   ]
  },
  {
   "cell_type": "code",
   "execution_count": 4,
   "id": "587132d2",
   "metadata": {},
   "outputs": [],
   "source": [
    "\n",
    "# Initialize an empty list to store the anomalies\n",
    "anomalies = []"
   ]
  },
  {
   "cell_type": "code",
   "execution_count": 5,
   "id": "f567f6ac",
   "metadata": {},
   "outputs": [],
   "source": [
    "# Iterate through the dataset\n",
    "for i in range(data.shape[0]):\n",
    "    # Calculate the deviation from the baseline\n",
    "    deviation = abs(data[i]['current'] - baseline)\n",
    "\n",
    "    # Check if the deviation exceeds the threshold\n",
    "    if deviation > threshold:\n",
    "        # Append the anomaly to the list\n",
    "        anomalies.append(i)\n"
   ]
  },
  {
   "cell_type": "code",
   "execution_count": 6,
   "id": "539b095f",
   "metadata": {},
   "outputs": [
    {
     "name": "stdout",
     "output_type": "stream",
     "text": [
      "Anomalies detected at indices: [0, 1, 2, 3, 4, 7, 8, 9, 10]\n"
     ]
    }
   ],
   "source": [
    "# Print the indices of the anomalies\n",
    "print(\"Anomalies detected at indices:\", anomalies)"
   ]
  }
 ],
 "metadata": {
  "kernelspec": {
   "display_name": "Python 3",
   "language": "python",
   "name": "python3"
  },
  "language_info": {
   "codemirror_mode": {
    "name": "ipython",
    "version": 3
   },
   "file_extension": ".py",
   "mimetype": "text/x-python",
   "name": "python",
   "nbconvert_exporter": "python",
   "pygments_lexer": "ipython3",
   "version": "3.8.8"
  }
 },
 "nbformat": 4,
 "nbformat_minor": 5
}
